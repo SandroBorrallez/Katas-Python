{
 "cells": [
  {
   "cell_type": "markdown",
   "metadata": {},
   "source": [
    "# KATA 3"
   ]
  },
  {
   "cell_type": "markdown",
   "metadata": {},
   "source": [
    "### EJERCICIO 1: Escribir declaraciones if, else y elif"
   ]
  },
  {
   "cell_type": "markdown",
   "metadata": {},
   "source": [
    "EJERCICIO 1.1"
   ]
  },
  {
   "cell_type": "code",
   "execution_count": 2,
   "metadata": {},
   "outputs": [
    {
     "name": "stdout",
     "output_type": "stream",
     "text": [
      "¡¡Advertencia!! un asteroide se acerca a la tierra a 45 km/s\n"
     ]
    }
   ],
   "source": [
    "velasteroide = int(input('Ingresa la velocidad'))\n",
    "\n",
    "if velasteroide > 25:\n",
    "    print('¡¡Advertencia!! un asteroide se acerca a la tierra a ' + str(velasteroide) + ' km/s')\n",
    "else:\n",
    "    print('¡¡Hola!!, el día de hoy ten un extraordinario día')"
   ]
  },
  {
   "cell_type": "markdown",
   "metadata": {},
   "source": [
    "EJERCICIO 1.2"
   ]
  },
  {
   "cell_type": "code",
   "execution_count": 3,
   "metadata": {},
   "outputs": [
    {
     "name": "stdout",
     "output_type": "stream",
     "text": [
      "¡¡Advertencia!! un asteroide se acerca a la tierra a 56 km/s\n"
     ]
    }
   ],
   "source": [
    "velasteroide = int(input('Ingresa la velocidad'))\n",
    "\n",
    "if velasteroide > 25:\n",
    "    print('¡¡Advertencia!! un asteroide se acerca a la tierra a ' + str(velasteroide) + ' km/s')\n",
    "elif velasteroide >= 20:\n",
    "    print('Observa el cielo el asteroide que ingresará a la tierra producirá un hermoso rayo de luz')\n",
    "else:\n",
    "    print('¡¡Hola!!, el día de hoy ten un extraordinario día')"
   ]
  },
  {
   "cell_type": "markdown",
   "metadata": {},
   "source": [
    "### EJERCICIO 2: Uso de operadores and y or"
   ]
  },
  {
   "cell_type": "markdown",
   "metadata": {},
   "source": [
    "EJERCICIO 2.1"
   ]
  },
  {
   "cell_type": "code",
   "execution_count": 4,
   "metadata": {},
   "outputs": [
    {
     "name": "stdout",
     "output_type": "stream",
     "text": [
      "Observa el cielo el asteroide que ingresará a la tierra a una velocidad de 40 km/s y producirá un hermoso rayo de luz\n"
     ]
    }
   ],
   "source": [
    "\n",
    "velasteroide = int(input('Ingresa la velocidad'))\n",
    "dimasteroide = int(input('Ingresa la dimensión'))\n",
    "\n",
    "\n",
    "if velasteroide > 25 and dimasteroide > 25:\n",
    "    print('¡¡Advertencia!! un asteroide con una dimensión de ' + str(dimasteroide) + ' metros impactará a ' + str(velasteroide) + ' km/s provocando daños a la tierra')\n",
    "elif velasteroide >= 20:\n",
    "    print('Observa el cielo el asteroide que ingresará a la tierra a una velocidad de ' + str(velasteroide) + ' km/s y producirá un hermoso rayo de luz')\n",
    "elif dimasteroide < 25:\n",
    "    print('¡¡Hola!!, el día de hoy ten un extraordinario día')\n",
    "else:\n",
    "    print('¡¡Hola!!, el día de hoy ten un extraordinario día')\n"
   ]
  }
 ],
 "metadata": {
  "interpreter": {
   "hash": "66e21c7e2d1248473588c97576045176cf1703e8618d8241adebb5d81d7623ba"
  },
  "kernelspec": {
   "display_name": "Python 3.10.2 64-bit (windows store)",
   "language": "python",
   "name": "python3"
  },
  "language_info": {
   "codemirror_mode": {
    "name": "ipython",
    "version": 3
   },
   "file_extension": ".py",
   "mimetype": "text/x-python",
   "name": "python",
   "nbconvert_exporter": "python",
   "pygments_lexer": "ipython3",
   "version": "3.9.5"
  },
  "orig_nbformat": 4
 },
 "nbformat": 4,
 "nbformat_minor": 2
}
