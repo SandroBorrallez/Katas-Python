{
 "cells": [
  {
   "cell_type": "markdown",
   "metadata": {},
   "source": [
    "# KATA 9"
   ]
  },
  {
   "cell_type": "markdown",
   "metadata": {},
   "source": [
    "### EJERCICIO 1: Uso de funciones en Python"
   ]
  },
  {
   "cell_type": "markdown",
   "metadata": {},
   "source": [
    "EJERCICIO 1.1"
   ]
  },
  {
   "cell_type": "code",
   "execution_count": 19,
   "metadata": {},
   "outputs": [],
   "source": [
    "def total_tanques(tanque_1, tanque_2, tanque_3):\n",
    "    promedio_tanques= (tanque_1 + tanque_2 + tanque_3) / 3\n",
    "    return f\"\"\"\n",
    "    promedio: {promedio_tanques} \n",
    "    tanque 1 : {tanque_1}\n",
    "    tanque 2 : {tanque_2}\n",
    "    tanque 3 : {tanque_3} \n",
    "    \"\"\""
   ]
  },
  {
   "cell_type": "markdown",
   "metadata": {},
   "source": [
    "EJERCICIO 1.2"
   ]
  },
  {
   "cell_type": "code",
   "execution_count": 21,
   "metadata": {},
   "outputs": [
    {
     "name": "stdout",
     "output_type": "stream",
     "text": [
      "\n",
      "    promedio: 33.333333333333336 \n",
      "    tanque 1 : 20\n",
      "    tanque 2 : 45\n",
      "    tanque 3 : 35 \n",
      "    \n"
     ]
    }
   ],
   "source": [
    "print(total_tanques(20, 45, 35))"
   ]
  },
  {
   "cell_type": "markdown",
   "metadata": {},
   "source": [
    "EJERCICIO 1.3"
   ]
  },
  {
   "cell_type": "code",
   "execution_count": 30,
   "metadata": {},
   "outputs": [],
   "source": [
    "def tanques_combustible (tanques):\n",
    "    promedio = sum(tanques) / len(tanques)\n",
    "    return promedio"
   ]
  },
  {
   "cell_type": "code",
   "execution_count": 32,
   "metadata": {},
   "outputs": [
    {
     "data": {
      "text/plain": [
       "26.666666666666668"
      ]
     },
     "execution_count": 32,
     "metadata": {},
     "output_type": "execute_result"
    }
   ],
   "source": [
    "tanques_combustible([25, 25, 30])"
   ]
  },
  {
   "cell_type": "markdown",
   "metadata": {},
   "source": [
    "EJERCICIO 1.4"
   ]
  },
  {
   "cell_type": "code",
   "execution_count": 35,
   "metadata": {},
   "outputs": [],
   "source": [
    "def total_tanques(tanque_1, tanque_2, tanque_3):\n",
    "    return f\"\"\"\n",
    "    promedio: {tanques_combustible([tanque_1, tanque_2, tanque_3])} \n",
    "    tanque 1 : {tanque_1}\n",
    "    tanque 2 : {tanque_2}\n",
    "    tanque 3 : {tanque_3} \n",
    "    \"\"\""
   ]
  },
  {
   "cell_type": "code",
   "execution_count": 36,
   "metadata": {},
   "outputs": [
    {
     "name": "stdout",
     "output_type": "stream",
     "text": [
      "\n",
      "    promedio: 23.333333333333332 \n",
      "    tanque 1 : 30\n",
      "    tanque 2 : 25\n",
      "    tanque 3 : 15 \n",
      "    \n"
     ]
    }
   ],
   "source": [
    "print(total_tanques(30, 25, 15))"
   ]
  },
  {
   "cell_type": "markdown",
   "metadata": {},
   "source": [
    "### EJERCICIO 2: Trabajo con argumentos de palabra clave"
   ]
  },
  {
   "cell_type": "markdown",
   "metadata": {},
   "source": [
    "EJERCICIO 2.1"
   ]
  },
  {
   "cell_type": "code",
   "execution_count": 37,
   "metadata": {},
   "outputs": [],
   "source": [
    "def informe(hora_plelanzamiento, tiempo_vuelo, destino, tanque_externo, tanque_interno):\n",
    "    return f\"\"\"\n",
    "    destino : {destino}\n",
    "    tiempo de vuelo : {hora_plelanzamiento + tiempo_vuelo} horas\n",
    "    total combustible : {tanque_externo + tanque_interno} galones\n",
    "    \"\"\""
   ]
  },
  {
   "cell_type": "code",
   "execution_count": 38,
   "metadata": {},
   "outputs": [
    {
     "name": "stdout",
     "output_type": "stream",
     "text": [
      "\n",
      "    destino : Luna\n",
      "    tiempo de vuelo : 35 horas\n",
      "    total combustible : 1000 galones\n",
      "    \n"
     ]
    }
   ],
   "source": [
    "print(informe(5, 30, 'Luna', 700, 300))"
   ]
  },
  {
   "cell_type": "markdown",
   "metadata": {},
   "source": [
    "EJERCICIO 2.2"
   ]
  },
  {
   "cell_type": "code",
   "execution_count": 48,
   "metadata": {},
   "outputs": [],
   "source": [
    "def reporte(destino, *minutos, **tanques):\n",
    "    return f\"\"\"\"\n",
    "    destino : {destino}\n",
    "    tiempo de vuelo : {sum(minutos)} minutos\n",
    "    total combustible : {sum(tanques.values())} galones\n",
    "    \"\"\""
   ]
  },
  {
   "cell_type": "code",
   "execution_count": 49,
   "metadata": {},
   "outputs": [
    {
     "name": "stdout",
     "output_type": "stream",
     "text": [
      "\"\n",
      "    destino : Luna\n",
      "    tiempo de vuelo : 145 minutos\n",
      "    total combustible : 1400 galones\n",
      "    \n"
     ]
    }
   ],
   "source": [
    "print(reporte('Luna', 20, 30, 55, 40, externo=600, interno=800))"
   ]
  },
  {
   "cell_type": "markdown",
   "metadata": {},
   "source": [
    "EJERCICIO 2.3"
   ]
  },
  {
   "cell_type": "code",
   "execution_count": 52,
   "metadata": {},
   "outputs": [],
   "source": [
    "def reporte(destino, *minutos, **tanques):\n",
    "    informe = f\"\"\"\"\n",
    "    destino : {destino}\n",
    "    tiempo de vuelo : {sum(minutos)} minutos\n",
    "    total combustible : {sum(tanques.values())} galones\n",
    "    \"\"\"\n",
    "    for nombre_tanque, galones in tanques.items():\n",
    "        informe += f'en el tanque {nombre_tanque} quedan {galones} galones\\n'\n",
    "    return informe"
   ]
  },
  {
   "cell_type": "code",
   "execution_count": 53,
   "metadata": {},
   "outputs": [
    {
     "name": "stdout",
     "output_type": "stream",
     "text": [
      "\"\n",
      "    destino : Luna\n",
      "    tiempo de vuelo : 25 minutos\n",
      "    total combustible : 1400 galones\n",
      "    en el tanque externo quedan 500 galones\n",
      "en el tanque interno quedan 900 galones\n",
      "\n"
     ]
    }
   ],
   "source": [
    "print(reporte('Luna', 5, 9, 11, externo = 500, interno = 900))"
   ]
  }
 ],
 "metadata": {
  "interpreter": {
   "hash": "a696fc06053989840ae8b98ff7f4ccd42f2c4efa2a8cfe7381f282c1f5a69205"
  },
  "kernelspec": {
   "display_name": "Python 3.10.2 64-bit",
   "language": "python",
   "name": "python3"
  },
  "language_info": {
   "codemirror_mode": {
    "name": "ipython",
    "version": 3
   },
   "file_extension": ".py",
   "mimetype": "text/x-python",
   "name": "python",
   "nbconvert_exporter": "python",
   "pygments_lexer": "ipython3",
   "version": "3.10.2"
  },
  "orig_nbformat": 4
 },
 "nbformat": 4,
 "nbformat_minor": 2
}
